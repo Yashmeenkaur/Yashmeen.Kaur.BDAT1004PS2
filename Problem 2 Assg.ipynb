{
 "cells": [
  {
   "cell_type": "markdown",
   "id": "05da0627",
   "metadata": {},
   "source": [
    "## Question 1"
   ]
  },
  {
   "cell_type": "code",
   "execution_count": 4,
   "id": "ce533cf3",
   "metadata": {},
   "outputs": [
    {
     "data": {
      "text/plain": [
       "6"
      ]
     },
     "execution_count": 4,
     "metadata": {},
     "output_type": "execute_result"
    }
   ],
   "source": [
    "a = 0\n",
    "def b():\n",
    "    global a\n",
    "    a = c(a)\n",
    "def c(a):\n",
    "    return a + 2\n",
    "\n",
    "b()\n",
    "b()\n",
    "b()\n",
    "a"
   ]
  },
  {
   "cell_type": "markdown",
   "id": "09cf3cc5",
   "metadata": {},
   "source": [
    "### Explanation:\n",
    "Value of a is 6.\n",
    "At first a global veriable 'a' is defined. The first statement b() calls the b function for first time and b() in turns calls calls the c() function. The statement 'global a' defines a as global as a global varibale instead of treating it as a local varibale.\n",
    "The c() returns a + 2 and which evaluates to 0+2 and then assigned to a as:\n",
    "    a = c(a)   ( c(a) returns 2)\n",
    "    a = 2\n",
    "Similarly when second b() is executed:\n",
    "    a = c(a) ( c(a) returns 2+2)\n",
    "    a = 4\n",
    "Similarly when third b() is executed:\n",
    "    a = c(a) ( c(a) returns 4+2)\n",
    "    a = 6\n",
    "and finally 'a' prints the value of a"
   ]
  },
  {
   "cell_type": "markdown",
   "id": "c138c1d7",
   "metadata": {},
   "source": [
    "## Question 2"
   ]
  },
  {
   "cell_type": "code",
   "execution_count": 27,
   "id": "8be2dcc4",
   "metadata": {},
   "outputs": [
    {
     "name": "stdout",
     "output_type": "stream",
     "text": [
      "4\n"
     ]
    }
   ],
   "source": [
    "\n",
    "def fileLength(fileName:str):\n",
    "    try:\n",
    "        f = open(fileName)\n",
    "        print(len(f.readlines()))\n",
    "        f.close()\n",
    "    except FileNotFoundError:\n",
    "        print(f\"{fileName} not found\")\n",
    "\n",
    "fileLength(\"test.txt\")"
   ]
  },
  {
   "cell_type": "markdown",
   "id": "4d0bef0b",
   "metadata": {},
   "source": [
    "## Question 3"
   ]
  },
  {
   "cell_type": "code",
   "execution_count": 37,
   "id": "d23ca046",
   "metadata": {},
   "outputs": [
    {
     "name": "stdout",
     "output_type": "stream",
     "text": [
      "I am a Kangaroo located at coordinates (0,0)\n",
      "I am a Kangaroo located at coordinates (3,0)\n"
     ]
    }
   ],
   "source": [
    "class Marsupial:\n",
    "    def __init__(self):\n",
    "        self.contents = []\n",
    "    def put_in_pouch(self, item: str):\n",
    "        self.contents.append(item)\n",
    "    def pouch_contents(self):\n",
    "        return self.contents\n",
    "    \n",
    "\n",
    "m = Marsupial()\n",
    "m.put_in_pouch('doll')\n",
    "m.put_in_pouch('firetruck')\n",
    "m.put_in_pouch('kitten')\n",
    "m.pouch_contents()\n",
    "\n",
    "class Kangaroo(Marsupial):\n",
    "    def __init__(self, x,y):\n",
    "        Marsupial.__init__(self)\n",
    "        self.x = x\n",
    "        self.y = y\n",
    "    \n",
    "    def __str__(self):\n",
    "        return f\"I am a Kangaroo located at coordinates ({self.x},{self.y})\"\n",
    "    \n",
    "    def jump(self, dx, dy):\n",
    "        self.x += dx\n",
    "        self.y += dy\n",
    "k = Kangaroo(0,0)\n",
    "print(k)\n",
    "\n",
    "k.put_in_pouch('doll')\n",
    "k.put_in_pouch('firetruck')\n",
    "k.put_in_pouch('kitten')\n",
    "k.pouch_contents()\n",
    "k.jump(1,0)\n",
    "k.jump(1,0)\n",
    "k.jump(1,0)\n",
    "print(k)"
   ]
  },
  {
   "cell_type": "markdown",
   "id": "b48c0dd1",
   "metadata": {},
   "source": [
    "## Question 4"
   ]
  },
  {
   "cell_type": "code",
   "execution_count": 1,
   "id": "a5e75759",
   "metadata": {},
   "outputs": [],
   "source": [
    "def collatz(x :int):\n",
    "    print(x)\n",
    "    if x <= 0:\n",
    "        return \"Number must be Positive Integer!\";\n",
    "    elif x == 1:\n",
    "        return;\n",
    "    elif (x > 1):\n",
    "        if x%2 == 0:\n",
    "            x = x/2\n",
    "        else:\n",
    "            x = 3*x +1\n",
    "    collatz(x)\n",
    "\n",
    "collatz(1)"
   ]
  },
  {
   "cell_type": "code",
   "execution_count": 39,
   "id": "e223efc3",
   "metadata": {},
   "outputs": [
    {
     "name": "stdout",
     "output_type": "stream",
     "text": [
      "10\n",
      "5.0\n",
      "16.0\n",
      "8.0\n",
      "4.0\n",
      "2.0\n",
      "1.0\n"
     ]
    }
   ],
   "source": [
    "collatz(10)"
   ]
  },
  {
   "cell_type": "code",
   "execution_count": 3,
   "id": "f4eed858",
   "metadata": {},
   "outputs": [
    {
     "name": "stdout",
     "output_type": "stream",
     "text": [
      "0\n"
     ]
    },
    {
     "data": {
      "text/plain": [
       "'Number must be Positive Integer!'"
      ]
     },
     "execution_count": 3,
     "metadata": {},
     "output_type": "execute_result"
    }
   ],
   "source": [
    "collatz(0)"
   ]
  },
  {
   "cell_type": "markdown",
   "id": "e0787324",
   "metadata": {},
   "source": [
    "## Question 5"
   ]
  },
  {
   "cell_type": "code",
   "execution_count": 11,
   "id": "03eabc21",
   "metadata": {},
   "outputs": [
    {
     "data": {
      "text/plain": [
       "0"
      ]
     },
     "execution_count": 11,
     "metadata": {},
     "output_type": "execute_result"
    }
   ],
   "source": [
    "def binary(n:int):\n",
    "    if n<0:\n",
    "        return \"Number must be non-negative integer\"\n",
    "    elif n== 0:\n",
    "        return 0\n",
    "    else:\n",
    "        return n%2 +10*(binary(n//2))\n",
    "binary(0)"
   ]
  },
  {
   "cell_type": "code",
   "execution_count": 12,
   "id": "5e78e269",
   "metadata": {},
   "outputs": [
    {
     "data": {
      "text/plain": [
       "1"
      ]
     },
     "execution_count": 12,
     "metadata": {},
     "output_type": "execute_result"
    }
   ],
   "source": [
    "binary(1)"
   ]
  },
  {
   "cell_type": "code",
   "execution_count": 13,
   "id": "60471424",
   "metadata": {},
   "outputs": [
    {
     "data": {
      "text/plain": [
       "11"
      ]
     },
     "execution_count": 13,
     "metadata": {},
     "output_type": "execute_result"
    }
   ],
   "source": [
    "binary(3)"
   ]
  },
  {
   "cell_type": "code",
   "execution_count": 14,
   "id": "dfc19169",
   "metadata": {},
   "outputs": [
    {
     "data": {
      "text/plain": [
       "1001"
      ]
     },
     "execution_count": 14,
     "metadata": {},
     "output_type": "execute_result"
    }
   ],
   "source": [
    "binary(9)"
   ]
  },
  {
   "cell_type": "code",
   "execution_count": 15,
   "id": "12d5c18b",
   "metadata": {},
   "outputs": [
    {
     "data": {
      "text/plain": [
       "1000"
      ]
     },
     "execution_count": 15,
     "metadata": {},
     "output_type": "execute_result"
    }
   ],
   "source": [
    "binary(8)"
   ]
  },
  {
   "cell_type": "markdown",
   "id": "84b0cc6f",
   "metadata": {},
   "source": [
    "## Question 6"
   ]
  },
  {
   "cell_type": "code",
   "execution_count": 26,
   "id": "9e98f25b",
   "metadata": {},
   "outputs": [],
   "source": [
    "# parser.feed(content)"
   ]
  },
  {
   "cell_type": "code",
   "execution_count": 46,
   "id": "5ec920f7",
   "metadata": {},
   "outputs": [
    {
     "name": "stdout",
     "output_type": "stream",
     "text": [
      "Parse me!\n",
      "\t H2 here\n",
      "\t \n",
      "\n",
      "W3C Mission\n",
      "\t Principles\n",
      "\t\t This is H3\n",
      "\t This is H2\n",
      "\t \n",
      "\n",
      "\t \n",
      "\n"
     ]
    }
   ],
   "source": [
    "from html.parser import HTMLParser\n",
    "\n",
    "class HeadingParser(HTMLParser):\n",
    "    def __init__(self, *, convert_charrefs: bool = ...) -> None:\n",
    "        super().__init__(convert_charrefs=convert_charrefs)\n",
    "        self.tag = ''\n",
    "    def handle_starttag(self, tag, attrs):\n",
    "        # print(\"Encountered a start tag:\", tag)\n",
    "        self.tag = tag\n",
    "    \n",
    "    def handle_data(self, data):\n",
    "        if (self.tag == 'h1'):\n",
    "            print(data)\n",
    "        \n",
    "        elif (self.tag == 'h2'):\n",
    "            print(\"\\t\", data)\n",
    "        \n",
    "        elif (self.tag == 'h3'):\n",
    "            print(\"\\t\\t\", data)\n",
    "        \n",
    "        elif (self.tag == 'h4'):\n",
    "            print(\"\\t\\t\\t\", data)\n",
    "        \n",
    "        elif (self.tag == 'h5'):\n",
    "            print(\"\\t\\t\\t\\t\", data)\n",
    "        \n",
    "        elif (self.tag == 'h6'):\n",
    "            print(\"\\t\\t\\t\\t\\t\", data)\n",
    "        else:\n",
    "            pass\n",
    "        \n",
    "\n",
    "\n",
    "\n",
    "parser = HeadingParser()\n",
    "parser.feed('<html><head><title>Test</title></head>'\n",
    "            '<body><h1>Parse me!</h1><h2>H2 here</h2></body></html>')\n",
    "\n",
    "infile = open('w3c.html')\n",
    "content = infile.read()\n",
    "infile.close()\n",
    "content\n",
    "parser.feed(content)"
   ]
  },
  {
   "cell_type": "markdown",
   "id": "a3b9e710",
   "metadata": {},
   "source": [
    "## Question 7"
   ]
  },
  {
   "cell_type": "code",
   "execution_count": 4,
   "id": "ac420d5f",
   "metadata": {
    "scrolled": true
   },
   "outputs": [
    {
     "name": "stdout",
     "output_type": "stream",
     "text": [
      "https://reed.cs.depaul.edu/lperkovic/test1.html\n",
      "\thttp://reed.cs.depaul.edu/lperkovic/test2.html\n",
      "\t\ttest4.html\n"
     ]
    },
    {
     "ename": "MissingSchema",
     "evalue": "Invalid URL 'test4.html': No schema supplied. Perhaps you meant http://test4.html?",
     "output_type": "error",
     "traceback": [
      "\u001b[1;31m---------------------------------------------------------------------------\u001b[0m",
      "\u001b[1;31mMissingSchema\u001b[0m                             Traceback (most recent call last)",
      "Input \u001b[1;32mIn [4]\u001b[0m, in \u001b[0;36m<cell line: 36>\u001b[1;34m()\u001b[0m\n\u001b[0;32m     24\u001b[0m                 webdir(href,depth,indent\u001b[38;5;241m+\u001b[39m\u001b[38;5;241m1\u001b[39m)\n\u001b[0;32m     29\u001b[0m \u001b[38;5;66;03m# URL = \"https://realpython.github.io/fake-jobs/\"\u001b[39;00m\n\u001b[0;32m     30\u001b[0m \u001b[38;5;66;03m# page = requests.get(URL)\u001b[39;00m\n\u001b[0;32m     31\u001b[0m \u001b[38;5;66;03m# print(page.text)\u001b[39;00m\n\u001b[0;32m     32\u001b[0m \u001b[38;5;66;03m# webdir('http://reed.cs.depaul.edu/lperkovic/csc242/test1.html',2,0)\u001b[39;00m\n\u001b[0;32m     33\u001b[0m \n\u001b[0;32m     34\u001b[0m \u001b[38;5;66;03m#Note http://reed.cs.depaul.edu/lperkovic/csc242/test1.html is no more active\u001b[39;00m\n\u001b[1;32m---> 36\u001b[0m \u001b[43mwebdir\u001b[49m\u001b[43m(\u001b[49m\u001b[38;5;124;43m'\u001b[39;49m\u001b[38;5;124;43mhttps://reed.cs.depaul.edu/lperkovic/test1.html\u001b[39;49m\u001b[38;5;124;43m'\u001b[39;49m\u001b[43m,\u001b[49m\u001b[38;5;241;43m2\u001b[39;49m\u001b[43m,\u001b[49m\u001b[38;5;241;43m0\u001b[39;49m\u001b[43m)\u001b[49m\n",
      "Input \u001b[1;32mIn [4]\u001b[0m, in \u001b[0;36mwebdir\u001b[1;34m(url, depth, indent)\u001b[0m\n\u001b[0;32m     22\u001b[0m \u001b[38;5;28;01mif\u001b[39;00m href \u001b[38;5;129;01mnot\u001b[39;00m \u001b[38;5;129;01min\u001b[39;00m urls:\n\u001b[0;32m     23\u001b[0m     urls\u001b[38;5;241m.\u001b[39mappend(href)\n\u001b[1;32m---> 24\u001b[0m     \u001b[43mwebdir\u001b[49m\u001b[43m(\u001b[49m\u001b[43mhref\u001b[49m\u001b[43m,\u001b[49m\u001b[43mdepth\u001b[49m\u001b[43m,\u001b[49m\u001b[43mindent\u001b[49m\u001b[38;5;241;43m+\u001b[39;49m\u001b[38;5;241;43m1\u001b[39;49m\u001b[43m)\u001b[49m\n",
      "Input \u001b[1;32mIn [4]\u001b[0m, in \u001b[0;36mwebdir\u001b[1;34m(url, depth, indent)\u001b[0m\n\u001b[0;32m     22\u001b[0m \u001b[38;5;28;01mif\u001b[39;00m href \u001b[38;5;129;01mnot\u001b[39;00m \u001b[38;5;129;01min\u001b[39;00m urls:\n\u001b[0;32m     23\u001b[0m     urls\u001b[38;5;241m.\u001b[39mappend(href)\n\u001b[1;32m---> 24\u001b[0m     \u001b[43mwebdir\u001b[49m\u001b[43m(\u001b[49m\u001b[43mhref\u001b[49m\u001b[43m,\u001b[49m\u001b[43mdepth\u001b[49m\u001b[43m,\u001b[49m\u001b[43mindent\u001b[49m\u001b[38;5;241;43m+\u001b[39;49m\u001b[38;5;241;43m1\u001b[39;49m\u001b[43m)\u001b[49m\n",
      "Input \u001b[1;32mIn [4]\u001b[0m, in \u001b[0;36mwebdir\u001b[1;34m(url, depth, indent)\u001b[0m\n\u001b[0;32m      8\u001b[0m         \u001b[38;5;28mprint\u001b[39m((\u001b[38;5;124m'\u001b[39m\u001b[38;5;130;01m\\t\u001b[39;00m\u001b[38;5;124m'\u001b[39m\u001b[38;5;241m*\u001b[39mindent)\u001b[38;5;241m+\u001b[39m\u001b[38;5;28mstr\u001b[39m(url))\n\u001b[0;32m     10\u001b[0m         \u001b[38;5;66;03m#loading page from url\u001b[39;00m\n\u001b[1;32m---> 11\u001b[0m         page \u001b[38;5;241m=\u001b[39m \u001b[43mrequests\u001b[49m\u001b[38;5;241;43m.\u001b[39;49m\u001b[43mget\u001b[49m\u001b[43m(\u001b[49m\u001b[43murl\u001b[49m\u001b[43m)\u001b[49m\n\u001b[0;32m     12\u001b[0m \u001b[38;5;66;03m#         print(page)\u001b[39;00m\n\u001b[0;32m     13\u001b[0m         \u001b[38;5;66;03m#converting page to BeautifulSoup object for scraping\u001b[39;00m\n\u001b[0;32m     14\u001b[0m         s \u001b[38;5;241m=\u001b[39m BeautifulSoup(page\u001b[38;5;241m.\u001b[39mtext,\u001b[38;5;124m\"\u001b[39m\u001b[38;5;124mhtml.parser\u001b[39m\u001b[38;5;124m\"\u001b[39m)\n",
      "File \u001b[1;32mC:\\ProgramData\\Anaconda3\\lib\\site-packages\\requests\\api.py:75\u001b[0m, in \u001b[0;36mget\u001b[1;34m(url, params, **kwargs)\u001b[0m\n\u001b[0;32m     64\u001b[0m \u001b[38;5;28;01mdef\u001b[39;00m \u001b[38;5;21mget\u001b[39m(url, params\u001b[38;5;241m=\u001b[39m\u001b[38;5;28;01mNone\u001b[39;00m, \u001b[38;5;241m*\u001b[39m\u001b[38;5;241m*\u001b[39mkwargs):\n\u001b[0;32m     65\u001b[0m     \u001b[38;5;124mr\u001b[39m\u001b[38;5;124;03m\"\"\"Sends a GET request.\u001b[39;00m\n\u001b[0;32m     66\u001b[0m \n\u001b[0;32m     67\u001b[0m \u001b[38;5;124;03m    :param url: URL for the new :class:`Request` object.\u001b[39;00m\n\u001b[1;32m   (...)\u001b[0m\n\u001b[0;32m     72\u001b[0m \u001b[38;5;124;03m    :rtype: requests.Response\u001b[39;00m\n\u001b[0;32m     73\u001b[0m \u001b[38;5;124;03m    \"\"\"\u001b[39;00m\n\u001b[1;32m---> 75\u001b[0m     \u001b[38;5;28;01mreturn\u001b[39;00m request(\u001b[38;5;124m'\u001b[39m\u001b[38;5;124mget\u001b[39m\u001b[38;5;124m'\u001b[39m, url, params\u001b[38;5;241m=\u001b[39mparams, \u001b[38;5;241m*\u001b[39m\u001b[38;5;241m*\u001b[39mkwargs)\n",
      "File \u001b[1;32mC:\\ProgramData\\Anaconda3\\lib\\site-packages\\requests\\api.py:61\u001b[0m, in \u001b[0;36mrequest\u001b[1;34m(method, url, **kwargs)\u001b[0m\n\u001b[0;32m     57\u001b[0m \u001b[38;5;66;03m# By using the 'with' statement we are sure the session is closed, thus we\u001b[39;00m\n\u001b[0;32m     58\u001b[0m \u001b[38;5;66;03m# avoid leaving sockets open which can trigger a ResourceWarning in some\u001b[39;00m\n\u001b[0;32m     59\u001b[0m \u001b[38;5;66;03m# cases, and look like a memory leak in others.\u001b[39;00m\n\u001b[0;32m     60\u001b[0m \u001b[38;5;28;01mwith\u001b[39;00m sessions\u001b[38;5;241m.\u001b[39mSession() \u001b[38;5;28;01mas\u001b[39;00m session:\n\u001b[1;32m---> 61\u001b[0m     \u001b[38;5;28;01mreturn\u001b[39;00m session\u001b[38;5;241m.\u001b[39mrequest(method\u001b[38;5;241m=\u001b[39mmethod, url\u001b[38;5;241m=\u001b[39murl, \u001b[38;5;241m*\u001b[39m\u001b[38;5;241m*\u001b[39mkwargs)\n",
      "File \u001b[1;32mC:\\ProgramData\\Anaconda3\\lib\\site-packages\\requests\\sessions.py:528\u001b[0m, in \u001b[0;36mSession.request\u001b[1;34m(self, method, url, params, data, headers, cookies, files, auth, timeout, allow_redirects, proxies, hooks, stream, verify, cert, json)\u001b[0m\n\u001b[0;32m    515\u001b[0m \u001b[38;5;66;03m# Create the Request.\u001b[39;00m\n\u001b[0;32m    516\u001b[0m req \u001b[38;5;241m=\u001b[39m Request(\n\u001b[0;32m    517\u001b[0m     method\u001b[38;5;241m=\u001b[39mmethod\u001b[38;5;241m.\u001b[39mupper(),\n\u001b[0;32m    518\u001b[0m     url\u001b[38;5;241m=\u001b[39murl,\n\u001b[1;32m   (...)\u001b[0m\n\u001b[0;32m    526\u001b[0m     hooks\u001b[38;5;241m=\u001b[39mhooks,\n\u001b[0;32m    527\u001b[0m )\n\u001b[1;32m--> 528\u001b[0m prep \u001b[38;5;241m=\u001b[39m \u001b[38;5;28;43mself\u001b[39;49m\u001b[38;5;241;43m.\u001b[39;49m\u001b[43mprepare_request\u001b[49m\u001b[43m(\u001b[49m\u001b[43mreq\u001b[49m\u001b[43m)\u001b[49m\n\u001b[0;32m    530\u001b[0m proxies \u001b[38;5;241m=\u001b[39m proxies \u001b[38;5;129;01mor\u001b[39;00m {}\n\u001b[0;32m    532\u001b[0m settings \u001b[38;5;241m=\u001b[39m \u001b[38;5;28mself\u001b[39m\u001b[38;5;241m.\u001b[39mmerge_environment_settings(\n\u001b[0;32m    533\u001b[0m     prep\u001b[38;5;241m.\u001b[39murl, proxies, stream, verify, cert\n\u001b[0;32m    534\u001b[0m )\n",
      "File \u001b[1;32mC:\\ProgramData\\Anaconda3\\lib\\site-packages\\requests\\sessions.py:456\u001b[0m, in \u001b[0;36mSession.prepare_request\u001b[1;34m(self, request)\u001b[0m\n\u001b[0;32m    453\u001b[0m     auth \u001b[38;5;241m=\u001b[39m get_netrc_auth(request\u001b[38;5;241m.\u001b[39murl)\n\u001b[0;32m    455\u001b[0m p \u001b[38;5;241m=\u001b[39m PreparedRequest()\n\u001b[1;32m--> 456\u001b[0m \u001b[43mp\u001b[49m\u001b[38;5;241;43m.\u001b[39;49m\u001b[43mprepare\u001b[49m\u001b[43m(\u001b[49m\n\u001b[0;32m    457\u001b[0m \u001b[43m    \u001b[49m\u001b[43mmethod\u001b[49m\u001b[38;5;241;43m=\u001b[39;49m\u001b[43mrequest\u001b[49m\u001b[38;5;241;43m.\u001b[39;49m\u001b[43mmethod\u001b[49m\u001b[38;5;241;43m.\u001b[39;49m\u001b[43mupper\u001b[49m\u001b[43m(\u001b[49m\u001b[43m)\u001b[49m\u001b[43m,\u001b[49m\n\u001b[0;32m    458\u001b[0m \u001b[43m    \u001b[49m\u001b[43murl\u001b[49m\u001b[38;5;241;43m=\u001b[39;49m\u001b[43mrequest\u001b[49m\u001b[38;5;241;43m.\u001b[39;49m\u001b[43murl\u001b[49m\u001b[43m,\u001b[49m\n\u001b[0;32m    459\u001b[0m \u001b[43m    \u001b[49m\u001b[43mfiles\u001b[49m\u001b[38;5;241;43m=\u001b[39;49m\u001b[43mrequest\u001b[49m\u001b[38;5;241;43m.\u001b[39;49m\u001b[43mfiles\u001b[49m\u001b[43m,\u001b[49m\n\u001b[0;32m    460\u001b[0m \u001b[43m    \u001b[49m\u001b[43mdata\u001b[49m\u001b[38;5;241;43m=\u001b[39;49m\u001b[43mrequest\u001b[49m\u001b[38;5;241;43m.\u001b[39;49m\u001b[43mdata\u001b[49m\u001b[43m,\u001b[49m\n\u001b[0;32m    461\u001b[0m \u001b[43m    \u001b[49m\u001b[43mjson\u001b[49m\u001b[38;5;241;43m=\u001b[39;49m\u001b[43mrequest\u001b[49m\u001b[38;5;241;43m.\u001b[39;49m\u001b[43mjson\u001b[49m\u001b[43m,\u001b[49m\n\u001b[0;32m    462\u001b[0m \u001b[43m    \u001b[49m\u001b[43mheaders\u001b[49m\u001b[38;5;241;43m=\u001b[39;49m\u001b[43mmerge_setting\u001b[49m\u001b[43m(\u001b[49m\u001b[43mrequest\u001b[49m\u001b[38;5;241;43m.\u001b[39;49m\u001b[43mheaders\u001b[49m\u001b[43m,\u001b[49m\u001b[43m \u001b[49m\u001b[38;5;28;43mself\u001b[39;49m\u001b[38;5;241;43m.\u001b[39;49m\u001b[43mheaders\u001b[49m\u001b[43m,\u001b[49m\u001b[43m \u001b[49m\u001b[43mdict_class\u001b[49m\u001b[38;5;241;43m=\u001b[39;49m\u001b[43mCaseInsensitiveDict\u001b[49m\u001b[43m)\u001b[49m\u001b[43m,\u001b[49m\n\u001b[0;32m    463\u001b[0m \u001b[43m    \u001b[49m\u001b[43mparams\u001b[49m\u001b[38;5;241;43m=\u001b[39;49m\u001b[43mmerge_setting\u001b[49m\u001b[43m(\u001b[49m\u001b[43mrequest\u001b[49m\u001b[38;5;241;43m.\u001b[39;49m\u001b[43mparams\u001b[49m\u001b[43m,\u001b[49m\u001b[43m \u001b[49m\u001b[38;5;28;43mself\u001b[39;49m\u001b[38;5;241;43m.\u001b[39;49m\u001b[43mparams\u001b[49m\u001b[43m)\u001b[49m\u001b[43m,\u001b[49m\n\u001b[0;32m    464\u001b[0m \u001b[43m    \u001b[49m\u001b[43mauth\u001b[49m\u001b[38;5;241;43m=\u001b[39;49m\u001b[43mmerge_setting\u001b[49m\u001b[43m(\u001b[49m\u001b[43mauth\u001b[49m\u001b[43m,\u001b[49m\u001b[43m \u001b[49m\u001b[38;5;28;43mself\u001b[39;49m\u001b[38;5;241;43m.\u001b[39;49m\u001b[43mauth\u001b[49m\u001b[43m)\u001b[49m\u001b[43m,\u001b[49m\n\u001b[0;32m    465\u001b[0m \u001b[43m    \u001b[49m\u001b[43mcookies\u001b[49m\u001b[38;5;241;43m=\u001b[39;49m\u001b[43mmerged_cookies\u001b[49m\u001b[43m,\u001b[49m\n\u001b[0;32m    466\u001b[0m \u001b[43m    \u001b[49m\u001b[43mhooks\u001b[49m\u001b[38;5;241;43m=\u001b[39;49m\u001b[43mmerge_hooks\u001b[49m\u001b[43m(\u001b[49m\u001b[43mrequest\u001b[49m\u001b[38;5;241;43m.\u001b[39;49m\u001b[43mhooks\u001b[49m\u001b[43m,\u001b[49m\u001b[43m \u001b[49m\u001b[38;5;28;43mself\u001b[39;49m\u001b[38;5;241;43m.\u001b[39;49m\u001b[43mhooks\u001b[49m\u001b[43m)\u001b[49m\u001b[43m,\u001b[49m\n\u001b[0;32m    467\u001b[0m \u001b[43m\u001b[49m\u001b[43m)\u001b[49m\n\u001b[0;32m    468\u001b[0m \u001b[38;5;28;01mreturn\u001b[39;00m p\n",
      "File \u001b[1;32mC:\\ProgramData\\Anaconda3\\lib\\site-packages\\requests\\models.py:316\u001b[0m, in \u001b[0;36mPreparedRequest.prepare\u001b[1;34m(self, method, url, headers, files, data, params, auth, cookies, hooks, json)\u001b[0m\n\u001b[0;32m    313\u001b[0m \u001b[38;5;124;03m\"\"\"Prepares the entire request with the given parameters.\"\"\"\u001b[39;00m\n\u001b[0;32m    315\u001b[0m \u001b[38;5;28mself\u001b[39m\u001b[38;5;241m.\u001b[39mprepare_method(method)\n\u001b[1;32m--> 316\u001b[0m \u001b[38;5;28;43mself\u001b[39;49m\u001b[38;5;241;43m.\u001b[39;49m\u001b[43mprepare_url\u001b[49m\u001b[43m(\u001b[49m\u001b[43murl\u001b[49m\u001b[43m,\u001b[49m\u001b[43m \u001b[49m\u001b[43mparams\u001b[49m\u001b[43m)\u001b[49m\n\u001b[0;32m    317\u001b[0m \u001b[38;5;28mself\u001b[39m\u001b[38;5;241m.\u001b[39mprepare_headers(headers)\n\u001b[0;32m    318\u001b[0m \u001b[38;5;28mself\u001b[39m\u001b[38;5;241m.\u001b[39mprepare_cookies(cookies)\n",
      "File \u001b[1;32mC:\\ProgramData\\Anaconda3\\lib\\site-packages\\requests\\models.py:390\u001b[0m, in \u001b[0;36mPreparedRequest.prepare_url\u001b[1;34m(self, url, params)\u001b[0m\n\u001b[0;32m    387\u001b[0m     error \u001b[38;5;241m=\u001b[39m (\u001b[38;5;124m\"\u001b[39m\u001b[38;5;124mInvalid URL \u001b[39m\u001b[38;5;132;01m{0!r}\u001b[39;00m\u001b[38;5;124m: No schema supplied. Perhaps you meant http://\u001b[39m\u001b[38;5;132;01m{0}\u001b[39;00m\u001b[38;5;124m?\u001b[39m\u001b[38;5;124m\"\u001b[39m)\n\u001b[0;32m    388\u001b[0m     error \u001b[38;5;241m=\u001b[39m error\u001b[38;5;241m.\u001b[39mformat(to_native_string(url, \u001b[38;5;124m'\u001b[39m\u001b[38;5;124mutf8\u001b[39m\u001b[38;5;124m'\u001b[39m))\n\u001b[1;32m--> 390\u001b[0m     \u001b[38;5;28;01mraise\u001b[39;00m MissingSchema(error)\n\u001b[0;32m    392\u001b[0m \u001b[38;5;28;01mif\u001b[39;00m \u001b[38;5;129;01mnot\u001b[39;00m host:\n\u001b[0;32m    393\u001b[0m     \u001b[38;5;28;01mraise\u001b[39;00m InvalidURL(\u001b[38;5;124m\"\u001b[39m\u001b[38;5;124mInvalid URL \u001b[39m\u001b[38;5;132;01m%r\u001b[39;00m\u001b[38;5;124m: No host supplied\u001b[39m\u001b[38;5;124m\"\u001b[39m \u001b[38;5;241m%\u001b[39m url)\n",
      "\u001b[1;31mMissingSchema\u001b[0m: Invalid URL 'test4.html': No schema supplied. Perhaps you meant http://test4.html?"
     ]
    }
   ],
   "source": [
    "from bs4 import BeautifulSoup\n",
    "import requests\n",
    "\n",
    "urls = []\n",
    "def webdir(url :str, depth:int, indent: int):\n",
    "    if(indent <= depth):\n",
    "        #printing the site\n",
    "        print(('\\t'*indent)+str(url))\n",
    "\n",
    "        #loading page from url\n",
    "        page = requests.get(url)\n",
    "#         print(page)\n",
    "        #converting page to BeautifulSoup object for scraping\n",
    "        s = BeautifulSoup(page.text,\"html.parser\")\n",
    "        \n",
    "        #finding all the links on the page\n",
    "        for link in s.find_all(\"a\", href= True):\n",
    "            href = link.attrs['href'] #filtering links that have href attribute\n",
    "            # print(href)\n",
    "            if href.startswith(\"mailto\"):\n",
    "                continue\n",
    "            if href not in urls:\n",
    "                urls.append(href)\n",
    "                webdir(href,depth,indent+1)\n",
    "\n",
    "\n",
    "\n",
    "\n",
    "# URL = \"https://realpython.github.io/fake-jobs/\"\n",
    "# page = requests.get(URL)\n",
    "# print(page.text)\n",
    "# webdir('http://reed.cs.depaul.edu/lperkovic/csc242/test1.html',2,0)\n",
    "\n",
    "#Note http://reed.cs.depaul.edu/lperkovic/csc242/test1.html is no more active\n",
    "\n",
    "webdir('https://reed.cs.depaul.edu/lperkovic/test1.html',2,0)"
   ]
  },
  {
   "cell_type": "markdown",
   "id": "a477dd7f",
   "metadata": {},
   "source": [
    "## Question 8"
   ]
  },
  {
   "cell_type": "code",
   "execution_count": 104,
   "id": "8884f265",
   "metadata": {},
   "outputs": [
    {
     "data": {
      "text/plain": [
       "<function Connection.close>"
      ]
     },
     "execution_count": 104,
     "metadata": {},
     "output_type": "execute_result"
    }
   ],
   "source": []
  },
  {
   "cell_type": "code",
   "execution_count": 181,
   "id": "85cc0488",
   "metadata": {},
   "outputs": [
    {
     "name": "stdout",
     "output_type": "stream",
     "text": [
      "Opened database successfully\n",
      "<sqlite3.Cursor object at 0x000002CE05DE4500>\n",
      "[('Mumbai', 'India', 'Winter', 24.8, 5.9), ('Mumbai', 'India', 'Winter', 27.2, 16.2), ('Mumbai', 'India', 'Winter', 27.6, 1549.9), ('Mumbai', 'India', 'Fall', 27.8, 346.9), ('London', 'UK', 'Winter', 4.2, 207.7), ('London', 'UK', 'Spring', 8.3, 169.6), ('London', 'UK', 'Summer', 15.7, 157.0), ('Cairo', 'Egypt', 'Winter', 13.6, 16.5), ('Cairo', 'Egypt', 'Fall', 22.2, 4.5), ('Cairo', 'Egypt', 'Spring', 20.7, 6.5), ('Cairo', 'Egypt', 'Summer', 27.7, 0.1)]\n"
     ]
    }
   ],
   "source": [
    "import sqlite3\n",
    "\n",
    "conn = sqlite3.connect('TestDatabase.db')\n",
    "\n",
    "c = conn.cursor()\n",
    "print (\"Opened database successfully\")\n",
    "\n",
    "# c.execute(\"\"\"CREATE TABLE RainFallData (\n",
    "#             City text,\n",
    "#             Country text,\n",
    "#             Season text,\n",
    "#             Temperature REAL,\n",
    "#             Rainfall real\n",
    "#             )\"\"\")\n",
    "\n",
    "# c.execute(\"\"\"INSERT INTO RainFallData Values \n",
    "# ('Mumbai', 'India', 'Winter', 24.8, 5.9),\n",
    "# ('Mumbai', 'India', 'Winter', 27.2, 16.2),\n",
    "# ('Mumbai', 'India', 'Winter', 27.6, 1549.9),\n",
    "# ('Mumbai', 'India', 'Fall', 27.8, 346.9),\n",
    "# ('London', 'UK', 'Winter', 4.2, 207.7)\"\"\")\n",
    "\n",
    "# c.execute(\"\"\"INSERT INTO RainFallData Values \n",
    "# ('London', 'UK', 'Spring', 8.3, 169.6),\n",
    "# ('London', 'UK', 'Summer', 15.7, 157.0),\n",
    "# ('Cairo', 'Egypt', 'Winter', 13.6, 16.5),\n",
    "# ('Cairo', 'Egypt', 'Fall', 22.2, 4.5)\n",
    "# \"\"\")\n",
    "\n",
    "# c.execute(\"\"\"INSERT INTO RainFallData Values \n",
    "# ('Cairo', 'Egypt', 'Spring', 20.7, 6.5),\n",
    "# ('Cairo', 'Egypt', 'Summer', 27.7, 0.1)\n",
    "# \"\"\")\n",
    "\n",
    "\n",
    "\n",
    "\n",
    "\n",
    "print(c.execute(\"Select * from RainFAllData\"))\n",
    "print(c.fetchall())\n"
   ]
  },
  {
   "cell_type": "code",
   "execution_count": 109,
   "id": "a0f94e29",
   "metadata": {
    "scrolled": true
   },
   "outputs": [
    {
     "name": "stdout",
     "output_type": "stream",
     "text": [
      "[(24.8,), (27.2,), (27.6,), (27.8,), (4.2,)]\n"
     ]
    }
   ],
   "source": [
    "# part a \n",
    "c.execute(\"\"\"Select Temperature\n",
    "            From RainFallData\"\"\")\n",
    "print(c.fetchall())"
   ]
  },
  {
   "cell_type": "code",
   "execution_count": 111,
   "id": "d631ee0f",
   "metadata": {},
   "outputs": [
    {
     "name": "stdout",
     "output_type": "stream",
     "text": [
      "[('Mumbai',), ('London',)]\n"
     ]
    }
   ],
   "source": [
    "# part b\n",
    "c.execute(\"\"\"Select Distinct City \n",
    "            from RainFallData\"\"\")\n",
    "print(c.fetchall())"
   ]
  },
  {
   "cell_type": "code",
   "execution_count": 154,
   "id": "33c9eeba",
   "metadata": {},
   "outputs": [
    {
     "name": "stdout",
     "output_type": "stream",
     "text": [
      "[('Mumbai', 'India', 'Winter', 24.8, 5.9), ('Mumbai', 'India', 'Winter', 27.2, 16.2), ('Mumbai', 'India', 'Winter', 27.6, 1549.9), ('Mumbai', 'India', 'Fall', 27.8, 346.9)]\n"
     ]
    }
   ],
   "source": [
    "# part c\n",
    "c.execute(\"\"\"Select *\n",
    "            From RainFallData\n",
    "            where Country = 'India' \"\"\")\n",
    "print(c.fetchall())"
   ]
  },
  {
   "cell_type": "code",
   "execution_count": 114,
   "id": "53d0a052",
   "metadata": {},
   "outputs": [
    {
     "name": "stdout",
     "output_type": "stream",
     "text": [
      "[('Mumbai', 'India', 'Fall', 27.8, 346.9)]\n"
     ]
    }
   ],
   "source": [
    "# part d\n",
    "c.execute(\"\"\"Select *\n",
    "            From RainFallData\n",
    "            where Season = 'Fall' \"\"\")\n",
    "print(c.fetchall())\n"
   ]
  },
  {
   "cell_type": "code",
   "execution_count": 117,
   "id": "01dd4736",
   "metadata": {},
   "outputs": [
    {
     "name": "stdout",
     "output_type": "stream",
     "text": [
      "[('Mumbai', 'India', 'Fall'), ('London', 'UK', 'Winter')]\n"
     ]
    }
   ],
   "source": [
    "# part e\n",
    "c.execute(\"\"\"Select City, Country, Season\n",
    "            From RainFallData\n",
    "            where (Rainfall >= 200 AND Rainfall <= 400) \"\"\")\n",
    "print(c.fetchall())"
   ]
  },
  {
   "cell_type": "code",
   "execution_count": 166,
   "id": "ab1e9947",
   "metadata": {},
   "outputs": [
    {
     "name": "stdout",
     "output_type": "stream",
     "text": [
      "[('Mumbai', 'India', 27.8)]\n"
     ]
    }
   ],
   "source": [
    "# part f\n",
    "c.execute(\"\"\"Select City, country, AVG(Temperature)\n",
    "            From RainFallData\n",
    "            Group by season\n",
    "            Having\n",
    "             AVG(Temperature) >=20 and Season = 'Fall'\n",
    "            \"\"\")\n",
    "print(c.fetchall())"
   ]
  },
  {
   "cell_type": "code",
   "execution_count": 182,
   "id": "5005cc1c",
   "metadata": {},
   "outputs": [
    {
     "name": "stdout",
     "output_type": "stream",
     "text": [
      "[(27.6,)]\n"
     ]
    }
   ],
   "source": [
    "# part g\n",
    "c.execute(\"\"\"\n",
    "            Select Sum(Rainfall)\n",
    "            From RainFallData\n",
    "            where city = 'Cairo'\n",
    "            \"\"\")\n",
    "print(c.fetchall())"
   ]
  },
  {
   "cell_type": "code",
   "execution_count": 183,
   "id": "dbde0f95",
   "metadata": {},
   "outputs": [
    {
     "name": "stdout",
     "output_type": "stream",
     "text": [
      "[(351.4,), (176.1,), (157.1,), (1796.2,)]\n"
     ]
    }
   ],
   "source": [
    "# part h\n",
    "c.execute(\"\"\"\n",
    "            Select Sum(Rainfall)\n",
    "            From RainFallData\n",
    "            Group by Season\"\"\")\n",
    "print(c.fetchall())"
   ]
  },
  {
   "cell_type": "code",
   "execution_count": 184,
   "id": "1d78f2b8",
   "metadata": {},
   "outputs": [
    {
     "data": {
      "text/plain": [
       "<function Connection.close>"
      ]
     },
     "execution_count": 184,
     "metadata": {},
     "output_type": "execute_result"
    }
   ],
   "source": [
    "#at the end\n",
    "conn.commit()\n",
    "conn.close"
   ]
  },
  {
   "cell_type": "markdown",
   "id": "45bcceda",
   "metadata": {},
   "source": [
    "## Question 9"
   ]
  },
  {
   "cell_type": "code",
   "execution_count": 193,
   "id": "340e0e28",
   "metadata": {},
   "outputs": [],
   "source": [
    "words = ['The', 'quick', 'brown', 'fox', 'jumps', 'over',\n",
    "'the', 'lazy', 'dog']"
   ]
  },
  {
   "cell_type": "code",
   "execution_count": 194,
   "id": "2b6168a6",
   "metadata": {},
   "outputs": [
    {
     "data": {
      "text/plain": [
       "['The', 'quick', 'brown', 'fox', 'jumps', 'over', 'the', 'lazy', 'dog']"
      ]
     },
     "execution_count": 194,
     "metadata": {},
     "output_type": "execute_result"
    }
   ],
   "source": [
    "words"
   ]
  },
  {
   "cell_type": "code",
   "execution_count": 195,
   "id": "c8742f7b",
   "metadata": {},
   "outputs": [
    {
     "data": {
      "text/plain": [
       "['THE', 'QUICK', 'BROWN', 'FOX', 'JUMPS', 'OVER', 'THE', 'LAZY', 'DOG']"
      ]
     },
     "execution_count": 195,
     "metadata": {},
     "output_type": "execute_result"
    }
   ],
   "source": [
    "# part a\n",
    "wordsA = [w.upper() for w in words]\n",
    "wordsA"
   ]
  },
  {
   "cell_type": "code",
   "execution_count": 196,
   "id": "7ddc52b9",
   "metadata": {},
   "outputs": [
    {
     "data": {
      "text/plain": [
       "['the', 'quick', 'brown', 'fox', 'jumps', 'over', 'the', 'lazy', 'dog']"
      ]
     },
     "execution_count": 196,
     "metadata": {},
     "output_type": "execute_result"
    }
   ],
   "source": [
    "# part b\n",
    "wordsB = [w.lower() for w in words]\n",
    "wordsB"
   ]
  },
  {
   "cell_type": "code",
   "execution_count": 197,
   "id": "f1ac4b3a",
   "metadata": {},
   "outputs": [
    {
     "data": {
      "text/plain": [
       "[3, 5, 5, 3, 5, 4, 3, 4, 3]"
      ]
     },
     "execution_count": 197,
     "metadata": {},
     "output_type": "execute_result"
    }
   ],
   "source": [
    "# part c\n",
    "wordsC = [len(w) for w in words]\n",
    "wordsC"
   ]
  },
  {
   "cell_type": "code",
   "execution_count": 202,
   "id": "6ac8f3f0",
   "metadata": {},
   "outputs": [
    {
     "data": {
      "text/plain": [
       "[['THE', 'the', 3],\n",
       " ['QUICK', 'quick', 5],\n",
       " ['BROWN', 'brown', 5],\n",
       " ['FOX', 'fox', 3],\n",
       " ['JUMPS', 'jumps', 5],\n",
       " ['OVER', 'over', 4],\n",
       " ['THE', 'the', 3],\n",
       " ['LAZY', 'lazy', 4],\n",
       " ['DOG', 'dog', 3]]"
      ]
     },
     "execution_count": 202,
     "metadata": {},
     "output_type": "execute_result"
    }
   ],
   "source": [
    "# part d\n",
    "wordsD = [[w.upper(),w.lower(),len(w)] for w in words]\n",
    "wordsD"
   ]
  },
  {
   "cell_type": "code",
   "execution_count": 203,
   "id": "540c814b",
   "metadata": {},
   "outputs": [
    {
     "data": {
      "text/plain": [
       "['quick', 'brown', 'jumps', 'over', 'lazy']"
      ]
     },
     "execution_count": 203,
     "metadata": {},
     "output_type": "execute_result"
    }
   ],
   "source": [
    "# part e\n",
    "wordsE = [w for w in words if len(w)>=4]\n",
    "wordsE"
   ]
  },
  {
   "cell_type": "code",
   "execution_count": null,
   "id": "ddcbba5e",
   "metadata": {},
   "outputs": [],
   "source": []
  }
 ],
 "metadata": {
  "kernelspec": {
   "display_name": "Python 3 (ipykernel)",
   "language": "python",
   "name": "python3"
  },
  "language_info": {
   "codemirror_mode": {
    "name": "ipython",
    "version": 3
   },
   "file_extension": ".py",
   "mimetype": "text/x-python",
   "name": "python",
   "nbconvert_exporter": "python",
   "pygments_lexer": "ipython3",
   "version": "3.9.7"
  },
  "vscode": {
   "interpreter": {
    "hash": "26de051ba29f2982a8de78e945f0abaf191376122a1563185a90213a26c5da77"
   }
  }
 },
 "nbformat": 4,
 "nbformat_minor": 5
}
